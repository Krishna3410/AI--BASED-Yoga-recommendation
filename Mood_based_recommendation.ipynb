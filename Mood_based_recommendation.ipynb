{
 "cells": [
  {
   "cell_type": "code",
   "execution_count": 1,
   "id": "e97c67bd-a475-4791-9434-2eee89897bff",
   "metadata": {},
   "outputs": [
    {
     "name": "stdout",
     "output_type": "stream",
     "text": [
      "                                             Comment Emotion\n",
      "0  i seriously hate one subject to death but now ...    fear\n",
      "1                 im so full of life i feel appalled   anger\n",
      "2  i sit here to write i start to dig out my feel...    fear\n",
      "3  ive been really angry with r and i feel like a...     joy\n",
      "4  i feel suspicious if there is no one outside l...    fear\n",
      "<class 'pandas.core.frame.DataFrame'>\n",
      "RangeIndex: 5937 entries, 0 to 5936\n",
      "Data columns (total 2 columns):\n",
      " #   Column   Non-Null Count  Dtype \n",
      "---  ------   --------------  ----- \n",
      " 0   Comment  5937 non-null   object\n",
      " 1   Emotion  5937 non-null   object\n",
      "dtypes: object(2)\n",
      "memory usage: 92.9+ KB\n",
      "None\n"
     ]
    }
   ],
   "source": [
    "import pandas as pd\n",
    "\n",
    "# Load the dataset\n",
    "data = pd.read_csv(\"Emotion_classify_Data.csv\")\n",
    "\n",
    "# Display the first few rows\n",
    "print(data.head())\n",
    "\n",
    "# Display basic information about the dataset\n",
    "print(data.info())"
   ]
  },
  {
   "cell_type": "code",
   "execution_count": 3,
   "id": "a8ef66f3-2b74-4475-ad1e-37966c407336",
   "metadata": {},
   "outputs": [
    {
     "name": "stdout",
     "output_type": "stream",
     "text": [
      "Index(['Comment', 'Emotion'], dtype='object')\n",
      "Comment    object\n",
      "Emotion    object\n",
      "dtype: object\n",
      "Comment    0\n",
      "Emotion    0\n",
      "dtype: int64\n"
     ]
    }
   ],
   "source": [
    "# List all columns\n",
    "print(data.columns)\n",
    "\n",
    "# Check data types and null values\n",
    "print(data.dtypes)\n",
    "print(data.isnull().sum())"
   ]
  },
  {
   "cell_type": "code",
   "execution_count": 5,
   "id": "7671e830-bcee-4f4b-a74b-b84c9bedbb49",
   "metadata": {},
   "outputs": [
    {
     "name": "stdout",
     "output_type": "stream",
     "text": [
      "Number of duplicate rows: 0\n",
      "Data shape after removing duplicates: (5937, 2)\n"
     ]
    }
   ],
   "source": [
    "# Count duplicate rows\n",
    "duplicates = data.duplicated()\n",
    "print(f\"Number of duplicate rows: {duplicates.sum()}\")\n",
    "\n",
    "# Remove duplicates\n",
    "data = data.drop_duplicates()\n",
    "print(f\"Data shape after removing duplicates: {data.shape}\")"
   ]
  },
  {
   "cell_type": "code",
   "execution_count": 9,
   "id": "7023f5a8-51bf-4355-8470-f7141b89078b",
   "metadata": {},
   "outputs": [
    {
     "name": "stdout",
     "output_type": "stream",
     "text": [
      "Emotion\n",
      "anger    2000\n",
      "joy      2000\n",
      "fear     1937\n",
      "Name: count, dtype: int64\n"
     ]
    },
    {
     "data": {
      "image/png": "[encoded data removed]",
      "text/plain": [
       "<Figure size 640x480 with 1 Axes>"
      ]
     },
     "metadata": {},
     "output_type": "display_data"
    }
   ],
   "source": [
    "# Count the occurrences of each emotion\n",
    "print(data['Emotion'].value_counts())\n",
    "\n",
    "# Visualize the distribution\n",
    "import matplotlib.pyplot as plt\n",
    "data['Emotion'].value_counts().plot(kind='bar', color='skyblue')\n",
    "plt.title(\"Emotion Label Distribution\")\n",
    "plt.xlabel(\"Emotion\")\n",
    "plt.ylabel(\"Count\")\n",
    "plt.show()"
   ]
  },
  {
   "cell_type": "code",
   "execution_count": 11,
   "id": "c9f62075-ca40-444e-ace7-3e89854d4e0d",
   "metadata": {},
   "outputs": [
    {
     "name": "stdout",
     "output_type": "stream",
     "text": [
      "                                                Comment Emotion\n",
      "4001  a group of youngsters dressed in fads talked f...   anger\n",
      "3077  im feeling a little grumpy today with the lame...   anger\n",
      "3838  i feel like ive been terribly wronged and that...   anger\n",
      "3011  i feel a cold coming on or drink a little extr...   anger\n",
      "5296  i guess i am just feeling slightly shaken at t...    fear\n"
     ]
    }
   ],
   "source": [
    "# Print random samples of text and labels\n",
    "print(data.sample(5))"
   ]
  },
  {
   "cell_type": "code",
   "execution_count": 13,
   "id": "c8827158-057f-4726-a23d-4a89899d30ad",
   "metadata": {},
   "outputs": [
    {
     "name": "stdout",
     "output_type": "stream",
     "text": [
      "Comment    0\n",
      "Emotion    0\n",
      "dtype: int64\n",
      "Comment    0\n",
      "Emotion    0\n",
      "dtype: int64\n"
     ]
    }
   ],
   "source": [
    "# Check for missing values\n",
    "print(data.isnull().sum())\n",
    "\n",
    "# Remove rows with missing values (if necessary)\n",
    "data = data.dropna()\n",
    "\n",
    "# Confirm no missing values remain\n",
    "print(data.isnull().sum())"
   ]
  },
  {
   "cell_type": "code",
   "execution_count": 17,
   "id": "29db0a41-954f-485a-a93a-da6718d6dafb",
   "metadata": {},
   "outputs": [
    {
     "name": "stderr",
     "output_type": "stream",
     "text": [
      "[nltk_data] Downloading package stopwords to\n",
      "[nltk_data]     C:\\Users\\kp310\\AppData\\Roaming\\nltk_data...\n",
      "[nltk_data]   Package stopwords is already up-to-date!\n"
     ]
    },
    {
     "name": "stdout",
     "output_type": "stream",
     "text": [
      "                                             Comment  \\\n",
      "0  i seriously hate one subject to death but now ...   \n",
      "1                 im so full of life i feel appalled   \n",
      "2  i sit here to write i start to dig out my feel...   \n",
      "3  ive been really angry with r and i feel like a...   \n",
      "4  i feel suspicious if there is no one outside l...   \n",
      "\n",
      "                                        cleaned_text  \n",
      "0  seriously hate one subject death feel reluctan...  \n",
      "1                         im full life feel appalled  \n",
      "2  sit write start dig feelings think afraid acce...  \n",
      "3  ive really angry r feel like idiot trusting fi...  \n",
      "4  feel suspicious one outside like rapture happe...  \n"
     ]
    }
   ],
   "source": [
    "import re\n",
    "from nltk.corpus import stopwords\n",
    "import nltk\n",
    "nltk.download('stopwords')\n",
    "\n",
    "# Define a function to clean text\n",
    "def clean_text(text):\n",
    "    text = re.sub(r'[^\\w\\s]', '', text)  # Remove punctuation\n",
    "    text = re.sub(r'\\d+', '', text)      # Remove numbers\n",
    "    text = text.lower()                  # Convert to lowercase\n",
    "    text = text.strip()                  # Remove leading/trailing whitespace\n",
    "    stop_words = set(stopwords.words('english'))\n",
    "    text = ' '.join(word for word in text.split() if word not in stop_words)  # Remove stopwords\n",
    "    return text\n",
    "\n",
    "# Apply the cleaning function to the text column\n",
    "data['cleaned_text'] = data['Comment'].apply(clean_text)\n",
    "\n",
    "# View a few examples\n",
    "print(data[['Comment', 'cleaned_text']].head())"
   ]
  },
  {
   "cell_type": "code",
   "execution_count": 21,
   "id": "274ec555-8aed-4738-af50-bd441f221e65",
   "metadata": {},
   "outputs": [
    {
     "name": "stdout",
     "output_type": "stream",
     "text": [
      "['anger' 'fear' 'joy']\n",
      "  Emotion  emotion_encoded\n",
      "0    fear                1\n",
      "1   anger                0\n",
      "2    fear                1\n",
      "3     joy                2\n",
      "4    fear                1\n"
     ]
    }
   ],
   "source": [
    "from sklearn.preprocessing import LabelEncoder\n",
    "\n",
    "# Initialize label encoder\n",
    "label_encoder = LabelEncoder()\n",
    "\n",
    "# Encode emotion labels\n",
    "data['emotion_encoded'] = label_encoder.fit_transform(data['Emotion'])\n",
    "\n",
    "# View mappings\n",
    "print(label_encoder.classes_)\n",
    "print(data[['Emotion', 'emotion_encoded']].head())"
   ]
  },
  {
   "cell_type": "code",
   "execution_count": 23,
   "id": "122a6e21-fb11-4c33-a216-acf307d8e9e2",
   "metadata": {},
   "outputs": [
    {
     "name": "stdout",
     "output_type": "stream",
     "text": [
      "Training set: 4749 samples\n",
      "Validation set: 594 samples\n",
      "Test set: 594 samples\n"
     ]
    }
   ],
   "source": [
    "from sklearn.model_selection import train_test_split\n",
    "\n",
    "# Define features (X) and target labels (y)\n",
    "X = data['cleaned_text']\n",
    "y = data['emotion_encoded']\n",
    "\n",
    "# Split the dataset\n",
    "X_train, X_temp, y_train, y_temp = train_test_split(X, y, test_size=0.2, random_state=42)\n",
    "X_val, X_test, y_val, y_test = train_test_split(X_temp, y_temp, test_size=0.5, random_state=42)\n",
    "\n",
    "print(f\"Training set: {len(X_train)} samples\")\n",
    "print(f\"Validation set: {len(X_val)} samples\")\n",
    "print(f\"Test set: {len(X_test)} samples\")"
   ]
  },
  {
   "cell_type": "code",
   "execution_count": 25,
   "id": "e3ab64e9-2dd6-4439-a433-9faf6ffc2ab6",
   "metadata": {},
   "outputs": [
    {
     "name": "stdout",
     "output_type": "stream",
     "text": [
      "TF-IDF feature matrix shape: (4749, 5000)\n"
     ]
    }
   ],
   "source": [
    "from sklearn.feature_extraction.text import TfidfVectorizer\n",
    "\n",
    "# Initialize TF-IDF Vectorizer\n",
    "vectorizer = TfidfVectorizer(max_features=5000)\n",
    "\n",
    "# Fit and transform the training data, transform validation and test data\n",
    "X_train_tfidf = vectorizer.fit_transform(X_train)\n",
    "X_val_tfidf = vectorizer.transform(X_val)\n",
    "X_test_tfidf = vectorizer.transform(X_test)\n",
    "\n",
    "print(f\"TF-IDF feature matrix shape: {X_train_tfidf.shape}\")"
   ]
  },
  {
   "cell_type": "markdown",
   "id": "77f1cb0e-5533-48f1-b11b-451c6839dd28",
   "metadata": {},
   "source": [
    "Model Training"
   ]
  },
  {
   "cell_type": "code",
   "execution_count": 27,
   "id": "8f1fd305-e13f-45da-8bbc-46de37daf6ed",
   "metadata": {},
   "outputs": [
    {
     "name": "stdout",
     "output_type": "stream",
     "text": [
      "Validation Accuracy: 93.43%\n",
      "Classification Report:\n",
      "              precision    recall  f1-score   support\n",
      "\n",
      "           0       0.92      0.95      0.93       179\n",
      "           1       0.94      0.91      0.92       220\n",
      "           2       0.94      0.95      0.95       195\n",
      "\n",
      "    accuracy                           0.93       594\n",
      "   macro avg       0.93      0.94      0.93       594\n",
      "weighted avg       0.93      0.93      0.93       594\n",
      "\n"
     ]
    },
    {
     "data": {
      "image/png": "[encoded data removed]",
      "text/plain": [
       "<Figure size 800x600 with 2 Axes>"
      ]
     },
     "metadata": {},
     "output_type": "display_data"
    }
   ],
   "source": [
    "from sklearn.linear_model import LogisticRegression\n",
    "from sklearn.metrics import accuracy_score, classification_report, confusion_matrix\n",
    "import seaborn as sns\n",
    "import matplotlib.pyplot as plt\n",
    "\n",
    "# Initialize the model\n",
    "model = LogisticRegression(max_iter=500)\n",
    "\n",
    "# Train the model\n",
    "model.fit(X_train_tfidf, y_train)\n",
    "\n",
    "# Predict on the validation set\n",
    "y_val_pred = model.predict(X_val_tfidf)\n",
    "\n",
    "# Evaluate the model\n",
    "accuracy = accuracy_score(y_val, y_val_pred)\n",
    "print(f\"Validation Accuracy: {accuracy * 100:.2f}%\")\n",
    "print(\"Classification Report:\")\n",
    "print(classification_report(y_val, y_val_pred))\n",
    "\n",
    "# Confusion Matrix\n",
    "cm = confusion_matrix(y_val, y_val_pred)\n",
    "plt.figure(figsize=(8, 6))\n",
    "sns.heatmap(cm, annot=True, fmt='d', cmap='Blues', xticklabels=label_encoder.classes_, yticklabels=label_encoder.classes_)\n",
    "plt.title(\"Confusion Matrix\")\n",
    "plt.xlabel(\"Predicted\")\n",
    "plt.ylabel(\"Actual\")\n",
    "plt.show()"
   ]
  },
  {
   "cell_type": "code",
   "execution_count": 29,
   "id": "83fdc989-d8cb-4996-afdd-fa2de9d68026",
   "metadata": {},
   "outputs": [
    {
     "data": {
      "text/plain": [
       "['tfidf_vectorizer.pkl']"
      ]
     },
     "execution_count": 29,
     "metadata": {},
     "output_type": "execute_result"
    }
   ],
   "source": [
    "import joblib\n",
    "\n",
    "# Save the model\n",
    "joblib.dump(model, 'emotion_classifier.pkl')\n",
    "\n",
    "# Save the TF-IDF vectorizer\n",
    "joblib.dump(vectorizer, 'tfidf_vectorizer.pkl')"
   ]
  },
  {
   "cell_type": "code",
   "execution_count": 35,
   "id": "ac8e40b0-946d-4438-93ac-38543443186c",
   "metadata": {},
   "outputs": [],
   "source": [
    "mood_to_yoga = {\n",
    "    'happy': 'Dynamic sequences like Sun Salutations',\n",
    "    'sad': 'Gentle poses like Child’s Pose and Forward Folds',\n",
    "    'anger': 'Relaxation poses like Corpse Pose and Deep Breathing',\n",
    "    'stressed': 'Meditative sequences with Breathing Exercises',\n",
    "    'neutral': 'Balanced flows like Warrior Poses',\n",
    "}"
   ]
  },
  {
   "cell_type": "code",
   "execution_count": 37,
   "id": "57988d55-c3bc-4506-a9de-390b2842effe",
   "metadata": {
    "scrolled": true
   },
   "outputs": [
    {
     "name": "stdout",
     "output_type": "stream",
     "text": [
      "Detected Emotion: anger\n",
      "Recommended Yoga Session: Relaxation poses like Corpse Pose and Deep Breathing\n"
     ]
    }
   ],
   "source": [
    "import joblib\n",
    "\n",
    "# Load the saved model and vectorizer\n",
    "model = joblib.load('emotion_classifier.pkl')\n",
    "vectorizer = joblib.load('tfidf_vectorizer.pkl')\n",
    "\n",
    "# Define a function to recommend yoga sessions\n",
    "def recommend_yoga(text):\n",
    "    # Preprocess and vectorize the input text\n",
    "    text_tfidf = vectorizer.transform([text])\n",
    "\n",
    "    # Predict the emotion\n",
    "    predicted_emotion = model.predict(text_tfidf)[0]\n",
    "\n",
    "    # Get the corresponding emotion label\n",
    "    emotion_label = label_encoder.inverse_transform([predicted_emotion])[0]\n",
    "\n",
    "    # Get the recommended yoga session\n",
    "    yoga_session = mood_to_yoga.get(emotion_label, 'Explore any yoga session of your choice')\n",
    "\n",
    "    return emotion_label, yoga_session\n",
    "\n",
    "# Test the recommendation system\n",
    "user_input = \"I feel very stressed and anxious.\"\n",
    "emotion, session = recommend_yoga(user_input)\n",
    "print(f\"Detected Emotion: {emotion}\")\n",
    "print(f\"Recommended Yoga Session: {session}\")"
   ]
  },
  {
   "cell_type": "code",
   "execution_count": null,
   "id": "ecf5c615-4fab-48f6-89bf-d63b2342d27b",
   "metadata": {},
   "outputs": [],
   "source": []
  }
 ],
 "metadata": {
  "kernelspec": {
   "display_name": "Python 3 (ipykernel)",
   "language": "python",
   "name": "python3"
  },
  "language_info": {
   "codemirror_mode": {
    "name": "ipython",
    "version": 3
   },
   "file_extension": ".py",
   "mimetype": "text/x-python",
   "name": "python",
   "nbconvert_exporter": "python",
   "pygments_lexer": "ipython3",
   "version": "3.12.4"
  }
 },
 "nbformat": 4,
 "nbformat_minor": 5
}
